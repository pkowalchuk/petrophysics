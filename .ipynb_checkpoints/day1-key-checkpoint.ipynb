{
 "cells": [
  {
   "cell_type": "markdown",
   "id": "9ae36df9-e05a-4da6-b2df-678680ae13e6",
   "metadata": {},
   "source": [
    "# Ejemplo"
   ]
  },
  {
   "cell_type": "code",
   "execution_count": 1,
   "id": "b3ce19fa-19f1-486a-8c43-1ad3c49e8cd7",
   "metadata": {},
   "outputs": [
    {
     "name": "stdout",
     "output_type": "stream",
     "text": [
      "hola\n"
     ]
    }
   ],
   "source": [
    "print(\"hola\")"
   ]
  },
  {
   "cell_type": "code",
   "execution_count": 2,
   "id": "c2e38210-6099-475c-828e-bf218b978855",
   "metadata": {},
   "outputs": [
    {
     "data": {
      "text/plain": [
       "4"
      ]
     },
     "execution_count": 2,
     "metadata": {},
     "output_type": "execute_result"
    }
   ],
   "source": [
    "2+2"
   ]
  },
  {
   "cell_type": "code",
   "execution_count": 3,
   "id": "145b7033-6359-4fe1-b648-08096bf6a62f",
   "metadata": {},
   "outputs": [
    {
     "data": {
      "text/plain": [
       "9"
      ]
     },
     "execution_count": 3,
     "metadata": {},
     "output_type": "execute_result"
    }
   ],
   "source": [
    "2+2\n",
    "4+5"
   ]
  },
  {
   "cell_type": "code",
   "execution_count": 4,
   "id": "7743e9cb-a731-4d7f-81d6-368e019e7114",
   "metadata": {},
   "outputs": [
    {
     "data": {
      "text/plain": [
       "2"
      ]
     },
     "execution_count": 4,
     "metadata": {},
     "output_type": "execute_result"
    }
   ],
   "source": [
    "2+2\n",
    "4+5\n",
    "1+1"
   ]
  },
  {
   "cell_type": "code",
   "execution_count": 5,
   "id": "1f6055bf-54a9-42d0-a26f-1af8cd8f6256",
   "metadata": {},
   "outputs": [
    {
     "data": {
      "text/plain": [
       "5"
      ]
     },
     "execution_count": 5,
     "metadata": {},
     "output_type": "execute_result"
    }
   ],
   "source": [
    "a=2\n",
    "b=3\n",
    "a+b"
   ]
  },
  {
   "cell_type": "code",
   "execution_count": 17,
   "id": "b0580c98-964d-46ea-9064-03e880dab68d",
   "metadata": {},
   "outputs": [],
   "source": [
    "a=10\n",
    "b=30"
   ]
  },
  {
   "cell_type": "code",
   "execution_count": 18,
   "id": "5130e963-069d-439b-9936-6fac2b500b08",
   "metadata": {},
   "outputs": [
    {
     "name": "stdout",
     "output_type": "stream",
     "text": [
      "a: 10, b: 30\n",
      "a: 30, b: 10\n"
     ]
    }
   ],
   "source": [
    "print('a: ' + str(a) + ', b: ' +str(b))\n",
    "temp=a\n",
    "a=b\n",
    "b=temp\n",
    "print('a: ' + str(a) + ', b: ' +str(b))"
   ]
  },
  {
   "cell_type": "code",
   "execution_count": 19,
   "id": "8e8c3a19-a59f-4828-9a30-60541256e9df",
   "metadata": {},
   "outputs": [
    {
     "data": {
      "text/plain": [
       "int"
      ]
     },
     "execution_count": 19,
     "metadata": {},
     "output_type": "execute_result"
    }
   ],
   "source": [
    "type(a)"
   ]
  },
  {
   "cell_type": "code",
   "execution_count": 20,
   "id": "104cd694-724e-483a-884e-0b8d7734898d",
   "metadata": {},
   "outputs": [
    {
     "data": {
      "text/plain": [
       "str"
      ]
     },
     "execution_count": 20,
     "metadata": {},
     "output_type": "execute_result"
    }
   ],
   "source": [
    "type(str(a))"
   ]
  },
  {
   "cell_type": "code",
   "execution_count": 21,
   "id": "9ed3b392-a1a5-4339-be2d-32e693a32f5f",
   "metadata": {},
   "outputs": [
    {
     "data": {
      "text/plain": [
       "float"
      ]
     },
     "execution_count": 21,
     "metadata": {},
     "output_type": "execute_result"
    }
   ],
   "source": [
    "a=10.2\n",
    "type(a)"
   ]
  },
  {
   "cell_type": "code",
   "execution_count": 22,
   "id": "391131ce-f611-4612-8371-689b08549b4d",
   "metadata": {},
   "outputs": [
    {
     "name": "stdout",
     "output_type": "stream",
     "text": [
      "a: 10, b: 30\n",
      "a: 30, b: 10\n"
     ]
    }
   ],
   "source": [
    "a=10\n",
    "b=30\n",
    "print('a: ' + str(a) + ', b: ' +str(b))\n",
    "a,b=b,a\n",
    "print('a: ' + str(a) + ', b: ' +str(b))"
   ]
  },
  {
   "cell_type": "code",
   "execution_count": 23,
   "id": "a844baa5-65e3-406c-852f-a457068aa30a",
   "metadata": {},
   "outputs": [
    {
     "name": "stdout",
     "output_type": "stream",
     "text": [
      "10 30 10\n"
     ]
    }
   ],
   "source": [
    "a=10\n",
    "b=30\n",
    "c=a\n",
    "print(a,b,c)"
   ]
  },
  {
   "cell_type": "code",
   "execution_count": 24,
   "id": "dc055778-f764-425c-8a7f-db643e95a97a",
   "metadata": {},
   "outputs": [
    {
     "name": "stdout",
     "output_type": "stream",
     "text": [
      "20 30 10\n"
     ]
    }
   ],
   "source": [
    "a=20\n",
    "print(a,b,c)"
   ]
  },
  {
   "cell_type": "code",
   "execution_count": 25,
   "id": "fcb4df02-7fa2-4f09-9426-808dd9f7aa4c",
   "metadata": {},
   "outputs": [
    {
     "data": {
      "text/plain": [
       "[1, 2, 3, 4, 5]"
      ]
     },
     "execution_count": 25,
     "metadata": {},
     "output_type": "execute_result"
    }
   ],
   "source": [
    "c=[1,2,3,4,5]\n",
    "c"
   ]
  },
  {
   "cell_type": "code",
   "execution_count": 26,
   "id": "2cc5b98b-3b64-4514-a668-b8f06f61fa9f",
   "metadata": {},
   "outputs": [
    {
     "data": {
      "text/plain": [
       "list"
      ]
     },
     "execution_count": 26,
     "metadata": {},
     "output_type": "execute_result"
    }
   ],
   "source": [
    "type(c)"
   ]
  },
  {
   "cell_type": "code",
   "execution_count": 27,
   "id": "7872ef19-18e2-4edd-9962-3f145359f3d1",
   "metadata": {},
   "outputs": [
    {
     "data": {
      "text/plain": [
       "[1, 2, 3, 4, 5, 'gamma', 'rop']"
      ]
     },
     "execution_count": 27,
     "metadata": {},
     "output_type": "execute_result"
    }
   ],
   "source": [
    "c=[1,2,3,4,5,'gamma','rop']\n",
    "c"
   ]
  },
  {
   "cell_type": "code",
   "execution_count": 28,
   "id": "85cf5f42-2e0e-4f09-a664-052856dab853",
   "metadata": {},
   "outputs": [
    {
     "data": {
      "text/plain": [
       "list"
      ]
     },
     "execution_count": 28,
     "metadata": {},
     "output_type": "execute_result"
    }
   ],
   "source": [
    "type(c)"
   ]
  },
  {
   "cell_type": "code",
   "execution_count": 29,
   "id": "45ef6dc0-6841-49a2-ae40-9901e57fa47e",
   "metadata": {},
   "outputs": [
    {
     "data": {
      "text/plain": [
       "'gamma'"
      ]
     },
     "execution_count": 29,
     "metadata": {},
     "output_type": "execute_result"
    }
   ],
   "source": [
    "c[5]"
   ]
  },
  {
   "cell_type": "code",
   "execution_count": 31,
   "id": "cbb2a29e-5556-402e-8085-754abba7a316",
   "metadata": {},
   "outputs": [
    {
     "data": {
      "text/plain": [
       "int"
      ]
     },
     "execution_count": 31,
     "metadata": {},
     "output_type": "execute_result"
    }
   ],
   "source": [
    "type(c[1])"
   ]
  },
  {
   "cell_type": "code",
   "execution_count": 32,
   "id": "7fa34951-ae45-4544-b70c-dd01b285be47",
   "metadata": {},
   "outputs": [
    {
     "data": {
      "text/plain": [
       "[1, 2, 3, 4, 5, 'gamma', 'rop', 'res']"
      ]
     },
     "execution_count": 32,
     "metadata": {},
     "output_type": "execute_result"
    }
   ],
   "source": [
    "c.append('res')\n",
    "c"
   ]
  },
  {
   "cell_type": "code",
   "execution_count": 33,
   "id": "715b8eb1-c072-45c1-b323-bea0998ad276",
   "metadata": {},
   "outputs": [
    {
     "data": {
      "text/plain": [
       "list"
      ]
     },
     "execution_count": 33,
     "metadata": {},
     "output_type": "execute_result"
    }
   ],
   "source": [
    "type(c)"
   ]
  },
  {
   "cell_type": "code",
   "execution_count": 34,
   "id": "ea22090c-27b4-45c1-ba98-dcdcc4de2472",
   "metadata": {},
   "outputs": [
    {
     "data": {
      "text/plain": [
       "[1, 2, 3, 4, 5, 'gamma', 'rop', 'res', 20]"
      ]
     },
     "execution_count": 34,
     "metadata": {},
     "output_type": "execute_result"
    }
   ],
   "source": [
    "c.append(a)\n",
    "c"
   ]
  },
  {
   "cell_type": "code",
   "execution_count": 35,
   "id": "f2a32252-e411-4393-92a4-97d6e06ab16c",
   "metadata": {},
   "outputs": [],
   "source": [
    "a=30"
   ]
  },
  {
   "cell_type": "code",
   "execution_count": 36,
   "id": "efd86d14-4a5a-457b-ab3c-415aa2959d1e",
   "metadata": {},
   "outputs": [
    {
     "data": {
      "text/plain": [
       "[1, 2, 3, 4, 5, 'gamma', 'rop', 'res', 20]"
      ]
     },
     "execution_count": 36,
     "metadata": {},
     "output_type": "execute_result"
    }
   ],
   "source": [
    "c"
   ]
  },
  {
   "cell_type": "code",
   "execution_count": 37,
   "id": "c598901a-21c6-41dc-848d-ec8aea2777f9",
   "metadata": {},
   "outputs": [],
   "source": [
    "c.append(a)"
   ]
  },
  {
   "cell_type": "code",
   "execution_count": 38,
   "id": "33f5a813-5fbc-434c-a392-0886c7721da1",
   "metadata": {},
   "outputs": [
    {
     "data": {
      "text/plain": [
       "[1, 2, 3, 4, 5, 'gamma', 'rop', 'res', 20, 30]"
      ]
     },
     "execution_count": 38,
     "metadata": {},
     "output_type": "execute_result"
    }
   ],
   "source": [
    "c"
   ]
  },
  {
   "cell_type": "code",
   "execution_count": 39,
   "id": "90b9cd6e-eb6e-4802-b786-0951a5b5d96f",
   "metadata": {},
   "outputs": [],
   "source": [
    "a=[10]\n",
    "b=[30]"
   ]
  },
  {
   "cell_type": "code",
   "execution_count": 40,
   "id": "e99c08c4-3569-4574-8e0b-0c34614874de",
   "metadata": {},
   "outputs": [
    {
     "data": {
      "text/plain": [
       "list"
      ]
     },
     "execution_count": 40,
     "metadata": {},
     "output_type": "execute_result"
    }
   ],
   "source": [
    "type(a)"
   ]
  },
  {
   "cell_type": "code",
   "execution_count": 41,
   "id": "4035be05-12f6-4f0b-8054-1dc0010abed2",
   "metadata": {},
   "outputs": [
    {
     "data": {
      "text/plain": [
       "int"
      ]
     },
     "execution_count": 41,
     "metadata": {},
     "output_type": "execute_result"
    }
   ],
   "source": [
    "type(a[0])"
   ]
  },
  {
   "cell_type": "code",
   "execution_count": 42,
   "id": "0fe6c7b1-bb2b-4c9c-80ca-706a2b8849bc",
   "metadata": {},
   "outputs": [
    {
     "name": "stdout",
     "output_type": "stream",
     "text": [
      "[10] [30] [10]\n"
     ]
    }
   ],
   "source": [
    "c=a\n",
    "print(a,b,c)"
   ]
  },
  {
   "cell_type": "code",
   "execution_count": 43,
   "id": "ed33b182-0afc-498e-b5c2-b0181350aacd",
   "metadata": {},
   "outputs": [
    {
     "name": "stdout",
     "output_type": "stream",
     "text": [
      "[50] [30] [50]\n"
     ]
    }
   ],
   "source": [
    "a[0]=50\n",
    "print(a,b,c)"
   ]
  },
  {
   "cell_type": "code",
   "execution_count": 44,
   "id": "b7978790-a852-45c7-b751-ea931b86a049",
   "metadata": {},
   "outputs": [],
   "source": [
    "import random"
   ]
  },
  {
   "cell_type": "code",
   "execution_count": 65,
   "id": "d73e7137-f101-40b7-87cf-c6b7b945bbe4",
   "metadata": {},
   "outputs": [],
   "source": [
    "random.seed(42)"
   ]
  },
  {
   "cell_type": "code",
   "execution_count": 53,
   "id": "0b98c699-7193-480c-a8cd-27005b45e8f1",
   "metadata": {},
   "outputs": [],
   "source": [
    "sample_data = {\n",
    "    'depth': 5000,\n",
    "    'gamma': 50,\n",
    "    'resistivity': 20,\n",
    "    'density': 1.2,\n",
    "    'porosity': 0.4\n",
    "}"
   ]
  },
  {
   "cell_type": "code",
   "execution_count": 56,
   "id": "087d31f2-f0be-481f-b9b2-a0a7bf31be67",
   "metadata": {},
   "outputs": [
    {
     "data": {
      "text/plain": [
       "dict"
      ]
     },
     "execution_count": 56,
     "metadata": {},
     "output_type": "execute_result"
    }
   ],
   "source": [
    "sample_data\n",
    "type(sample_data)"
   ]
  },
  {
   "cell_type": "code",
   "execution_count": 49,
   "id": "a04a38bc-e160-4966-a01f-da234bfccb2a",
   "metadata": {},
   "outputs": [
    {
     "data": {
      "text/plain": [
       "1.2"
      ]
     },
     "execution_count": 49,
     "metadata": {},
     "output_type": "execute_result"
    }
   ],
   "source": [
    "sample_data['density']"
   ]
  },
  {
   "cell_type": "code",
   "execution_count": 73,
   "id": "ea102e48-0318-4b25-bd3f-d209221c4af2",
   "metadata": {},
   "outputs": [],
   "source": [
    "sample_data = {\n",
    "    'depth': 5000,\n",
    "    'gamma': random.uniform(10,100),\n",
    "    'resistivity': random.uniform(1,2000),\n",
    "    'density': random.uniform(1,2),\n",
    "    'porosity': random.uniform(0,0.8)\n",
    "}"
   ]
  },
  {
   "cell_type": "code",
   "execution_count": 74,
   "id": "be2abab3-e92d-4a42-860d-9f2d5333e9cd",
   "metadata": {},
   "outputs": [
    {
     "data": {
      "text/plain": [
       "{'depth': 5000,\n",
       " 'gamma': 12.388237271547727,\n",
       " 'resistivity': 398.47646372261033,\n",
       " 'density': 1.6498844377795232,\n",
       " 'porosity': 0.43595318448257336}"
      ]
     },
     "execution_count": 74,
     "metadata": {},
     "output_type": "execute_result"
    }
   ],
   "source": [
    "sample_data"
   ]
  },
  {
   "cell_type": "code",
   "execution_count": 75,
   "id": "b182b42a-4c0a-4fa3-b16c-92247c55391f",
   "metadata": {},
   "outputs": [
    {
     "data": {
      "text/plain": [
       "dict"
      ]
     },
     "execution_count": 75,
     "metadata": {},
     "output_type": "execute_result"
    }
   ],
   "source": [
    "type(sample_data)"
   ]
  },
  {
   "cell_type": "code",
   "execution_count": 76,
   "id": "bef0998a-bc04-4e7d-8cae-84b1cf593da4",
   "metadata": {},
   "outputs": [],
   "source": [
    "sample_data = [{\n",
    "    'depth': 5000,\n",
    "    'gamma': random.uniform(10,100),\n",
    "    'resistivity': random.uniform(1,2000),\n",
    "    'density': random.uniform(1,2),\n",
    "    'porosity': random.uniform(0,0.8)\n",
    "}]"
   ]
  },
  {
   "cell_type": "code",
   "execution_count": 77,
   "id": "81f06d64-a97c-4485-a9d4-2cd82240c601",
   "metadata": {},
   "outputs": [
    {
     "data": {
      "text/plain": [
       "[{'depth': 5000,\n",
       "  'gamma': 29.839655983662702,\n",
       "  'resistivity': 1178.9421020679415,\n",
       "  'density': 1.8094304566778265,\n",
       "  'porosity': 0.005199007742448814}]"
      ]
     },
     "execution_count": 77,
     "metadata": {},
     "output_type": "execute_result"
    }
   ],
   "source": [
    "sample_data"
   ]
  },
  {
   "cell_type": "code",
   "execution_count": 72,
   "id": "26135dc9-d7ca-481a-b647-144fcf63be05",
   "metadata": {},
   "outputs": [
    {
     "data": {
      "text/plain": [
       "list"
      ]
     },
     "execution_count": 72,
     "metadata": {},
     "output_type": "execute_result"
    }
   ],
   "source": [
    "type(sample_data)"
   ]
  },
  {
   "cell_type": "code",
   "execution_count": 83,
   "id": "b13008dd-bee2-4e8c-885c-1b67b655cb69",
   "metadata": {},
   "outputs": [],
   "source": [
    "sample_data = [\n",
    "    {\n",
    "    'depth': 5000+i,\n",
    "    'gamma': random.uniform(10,100),\n",
    "    'resistivity': random.uniform(1,2000),\n",
    "    'density': random.uniform(1,2),\n",
    "    'porosity': random.uniform(0,0.8)\n",
    "    }\n",
    "    for i in range(10)\n",
    "]"
   ]
  },
  {
   "cell_type": "code",
   "execution_count": 79,
   "id": "1dce6f16-f3f4-4d61-b3a0-845fb9fbaf67",
   "metadata": {},
   "outputs": [
    {
     "data": {
      "text/plain": [
       "range"
      ]
     },
     "execution_count": 79,
     "metadata": {},
     "output_type": "execute_result"
    }
   ],
   "source": [
    "type(range(10))"
   ]
  },
  {
   "cell_type": "code",
   "execution_count": 80,
   "id": "175b51e2-3a3d-4cf5-9a54-3edca47ff06a",
   "metadata": {},
   "outputs": [
    {
     "data": {
      "text/plain": [
       "range(0, 10)"
      ]
     },
     "execution_count": 80,
     "metadata": {},
     "output_type": "execute_result"
    }
   ],
   "source": [
    "range(10)"
   ]
  },
  {
   "cell_type": "code",
   "execution_count": 84,
   "id": "f1f13ec0-8ab5-44cc-936a-f538f80a3667",
   "metadata": {},
   "outputs": [
    {
     "data": {
      "text/plain": [
       "[{'depth': 5000,\n",
       "  'gamma': 99.05710155729358,\n",
       "  'resistivity': 1280.3595199483316,\n",
       "  'density': 1.5569497437746462,\n",
       "  'porosity': 0.5476914007918997},\n",
       " {'depth': 5001,\n",
       "  'gamma': 85.85667281708287,\n",
       "  'resistivity': 1552.2238231809433,\n",
       "  'density': 1.2290480719641044,\n",
       "  'porosity': 0.02568019512323021},\n",
       " {'depth': 5002,\n",
       "  'gamma': 38.39077432531737,\n",
       "  'resistivity': 536.2140110754298,\n",
       "  'density': 1.2109828435863266,\n",
       "  'porosity': 0.7543277714680436},\n",
       " {'depth': 5003,\n",
       "  'gamma': 88.8730863825402,\n",
       "  'resistivity': 630.0410837161573,\n",
       "  'density': 1.65543866529488,\n",
       "  'porosity': 0.31650552084853145},\n",
       " {'depth': 5004,\n",
       "  'gamma': 92.30928307664891,\n",
       "  'resistivity': 918.2448533222102,\n",
       "  'density': 1.2648801664980525,\n",
       "  'porosity': 0.19730200615518678},\n",
       " {'depth': 5005,\n",
       "  'gamma': 60.52313207468357,\n",
       "  'resistivity': 526.2204754373475,\n",
       "  'density': 1.5845859902235406,\n",
       "  'porosity': 0.7182583068819817},\n",
       " {'depth': 5006,\n",
       "  'gamma': 45.94604546263575,\n",
       "  'resistivity': 439.42219755540935,\n",
       "  'density': 1.9975376064951103,\n",
       "  'porosity': 0.40762103494117163},\n",
       " {'depth': 5007,\n",
       "  'gamma': 18.18184709564145,\n",
       "  'resistivity': 95.1856344740444,\n",
       "  'density': 1.1096491303506593,\n",
       "  'porosity': 0.5019568333624721},\n",
       " {'depth': 5008,\n",
       "  'gamma': 81.28714279266677,\n",
       "  'resistivity': 844.8977736325684,\n",
       "  'density': 1.063527706151957,\n",
       "  'porosity': 0.30529542920522945},\n",
       " {'depth': 5009,\n",
       "  'gamma': 99.6509242216087,\n",
       "  'resistivity': 1058.6995758531748,\n",
       "  'density': 1.971078377613618,\n",
       "  'porosity': 0.6886237617875985}]"
      ]
     },
     "execution_count": 84,
     "metadata": {},
     "output_type": "execute_result"
    }
   ],
   "source": [
    "sample_data"
   ]
  },
  {
   "cell_type": "code",
   "execution_count": 87,
   "id": "30ead468-4138-4059-b00e-18ad47b62f27",
   "metadata": {},
   "outputs": [
    {
     "name": "stdout",
     "output_type": "stream",
     "text": [
      "gamma\n",
      "resistividad\n",
      "density\n",
      "porosity\n"
     ]
    }
   ],
   "source": [
    "parametros=['gamma','resistividad','density','porosity']\n",
    "for parametro in parametros:\n",
    "    print(parametro)"
   ]
  },
  {
   "cell_type": "code",
   "execution_count": 94,
   "id": "5cf6766e-0f27-488a-a0f1-33b2b29d3b71",
   "metadata": {},
   "outputs": [],
   "source": [
    "seq=[(1,2,3,4,4,4)]"
   ]
  },
  {
   "cell_type": "code",
   "execution_count": 95,
   "id": "c1de0335-46af-472c-bcb0-1a868a4d8c2d",
   "metadata": {},
   "outputs": [
    {
     "data": {
      "text/plain": [
       "[(1, 2, 3, 4, 4, 4)]"
      ]
     },
     "execution_count": 95,
     "metadata": {},
     "output_type": "execute_result"
    }
   ],
   "source": [
    "seq"
   ]
  },
  {
   "cell_type": "code",
   "execution_count": 100,
   "id": "6a0850a5-67d4-483a-9352-f00041a3e3b0",
   "metadata": {},
   "outputs": [
    {
     "name": "stdout",
     "output_type": "stream",
     "text": [
      "Parametro 1 es gamma\n",
      "Parametro 2 es resistividad\n",
      "Parametro 3 es density\n",
      "Parametro 4 es porosity\n"
     ]
    }
   ],
   "source": [
    "parametros=['gamma','resistividad','density','porosity']\n",
    "i=0\n",
    "for parametro in parametros:\n",
    "    i=i+1\n",
    "    print(\"Parametro \" + str(i) + \" es \" + parametro)"
   ]
  },
  {
   "cell_type": "code",
   "execution_count": 101,
   "id": "26efc505-9192-4e87-989e-b7e5bf40049e",
   "metadata": {},
   "outputs": [
    {
     "name": "stdout",
     "output_type": "stream",
     "text": [
      "Parametro 1 es gamma\n",
      "Parametro 2 es resistividad\n",
      "Parametro 3 es density\n",
      "Parametro 4 es porosity\n"
     ]
    }
   ],
   "source": [
    "parametros=['gamma','resistividad','density','porosity']\n",
    "for i,parametro in enumerate(parametros):\n",
    "    print(\"Parametro \" + str(i+1) + \" es \" + parametro)"
   ]
  },
  {
   "cell_type": "code",
   "execution_count": 102,
   "id": "1208bca8-d883-4f72-8225-6e3bc013dcb8",
   "metadata": {},
   "outputs": [
    {
     "name": "stdout",
     "output_type": "stream",
     "text": [
      "1000\n",
      "1001\n",
      "1002\n",
      "1003\n",
      "1004\n",
      "1005\n",
      "1006\n",
      "1007\n",
      "1008\n",
      "1009\n",
      "1010\n"
     ]
    }
   ],
   "source": [
    "for numero in range(1000,1011,1):\n",
    "    print(numero)"
   ]
  },
  {
   "cell_type": "code",
   "execution_count": 103,
   "id": "f772fbe3-f4bc-4475-bd59-2a3c05b6ae52",
   "metadata": {},
   "outputs": [
    {
     "name": "stdout",
     "output_type": "stream",
     "text": [
      "1000\n",
      "1002\n",
      "1004\n",
      "1006\n",
      "1008\n",
      "1010\n"
     ]
    }
   ],
   "source": [
    "for numero in range(1000,1011,2):\n",
    "    print(numero)"
   ]
  },
  {
   "cell_type": "code",
   "execution_count": 105,
   "id": "25fb8bcb-12cb-4fd9-a406-9f6cb8dc62d1",
   "metadata": {},
   "outputs": [
    {
     "name": "stdout",
     "output_type": "stream",
     "text": [
      "1000.0\n",
      "1000.5\n",
      "1001.0\n",
      "1001.5\n",
      "1002.0\n",
      "1002.5\n",
      "1003.0\n",
      "1003.5\n",
      "1004.0\n",
      "1004.5\n",
      "1005.0\n"
     ]
    }
   ],
   "source": [
    "for numero in range(2000,2011,1):\n",
    "    print(numero/2)"
   ]
  },
  {
   "cell_type": "code",
   "execution_count": 106,
   "id": "33266182-ed0d-49a1-88b7-6a9701871334",
   "metadata": {},
   "outputs": [],
   "source": [
    "rop_values=[random.randint(1,100)for _ in range(50)]"
   ]
  },
  {
   "cell_type": "code",
   "execution_count": 108,
   "id": "f8c69c5b-f399-4e52-8305-69ec5c7f8ca0",
   "metadata": {},
   "outputs": [
    {
     "data": {
      "text/plain": [
       "50"
      ]
     },
     "execution_count": 108,
     "metadata": {},
     "output_type": "execute_result"
    }
   ],
   "source": [
    "len(rop_values)"
   ]
  },
  {
   "cell_type": "code",
   "execution_count": 109,
   "id": "9176b858-641e-470d-8bea-ae871f95ba27",
   "metadata": {},
   "outputs": [
    {
     "data": {
      "text/plain": [
       "10"
      ]
     },
     "execution_count": 109,
     "metadata": {},
     "output_type": "execute_result"
    }
   ],
   "source": [
    "len(sample_data)"
   ]
  },
  {
   "cell_type": "code",
   "execution_count": 116,
   "id": "6bfa2b04-87fb-4402-9b67-3faeee82fd6b",
   "metadata": {},
   "outputs": [
    {
     "name": "stdout",
     "output_type": "stream",
     "text": [
      "Alta ROP: 2 en indice 0\n",
      "Alta ROP: 15 en indice 3\n",
      "Alta ROP: 35 en indice 7\n",
      "Alta ROP: 44 en indice 10\n",
      "Alta ROP: 15 en indice 11\n",
      "Alta ROP: 38 en indice 12\n",
      "Alta ROP: 21 en indice 14\n",
      "Alta ROP: 1 en indice 16\n",
      "Alta ROP: 34 en indice 19\n",
      "Alta ROP: 23 en indice 22\n",
      "Alta ROP: 14 en indice 24\n",
      "Alta ROP: 39 en indice 26\n",
      "Alta ROP: 26 en indice 30\n",
      "Alta ROP: 20 en indice 31\n",
      "Alta ROP: 48 en indice 32\n",
      "Alta ROP: 21 en indice 34\n",
      "Alta ROP: 1 en indice 38\n",
      "Alta ROP: 42 en indice 40\n",
      "Alta ROP: 3 en indice 42\n",
      "Alta ROP: 15 en indice 43\n",
      "Alta ROP: 47 en indice 44\n",
      "Alta ROP: 40 en indice 45\n",
      "Alta ROP: 31 en indice 46\n",
      "Alta ROP: 8 en indice 47\n",
      "Alta ROP: 31 en indice 48\n"
     ]
    }
   ],
   "source": [
    "for i,rop_value in enumerate(rop_values):\n",
    "    if rop_value < 50.0:\n",
    "        print(\"Alta ROP: \" +str(rop_value) + \" en indice \" + str(i))"
   ]
  },
  {
   "cell_type": "code",
   "execution_count": 117,
   "id": "a7374093-0431-402e-a617-dd056d134d28",
   "metadata": {},
   "outputs": [],
   "source": [
    "a=[1,4,3,2,5]"
   ]
  },
  {
   "cell_type": "code",
   "execution_count": 118,
   "id": "c03ecdc1-2e10-438c-80eb-15587c87aef3",
   "metadata": {},
   "outputs": [
    {
     "data": {
      "text/plain": [
       "[1, 4, 3, 2, 5]"
      ]
     },
     "execution_count": 118,
     "metadata": {},
     "output_type": "execute_result"
    }
   ],
   "source": [
    "a"
   ]
  },
  {
   "cell_type": "code",
   "execution_count": 119,
   "id": "bf86c6ea-a3a2-4bf5-a9b8-027ae4e8bd65",
   "metadata": {},
   "outputs": [
    {
     "data": {
      "text/plain": [
       "[1, 2, 3, 4, 5]"
      ]
     },
     "execution_count": 119,
     "metadata": {},
     "output_type": "execute_result"
    }
   ],
   "source": [
    "a.sort(reverse=False)\n",
    "a"
   ]
  },
  {
   "cell_type": "code",
   "execution_count": 120,
   "id": "07f7b25c-1c51-45b2-8caa-fb33b90dd232",
   "metadata": {},
   "outputs": [
    {
     "data": {
      "text/plain": [
       "[5, 4, 3, 2, 1]"
      ]
     },
     "execution_count": 120,
     "metadata": {},
     "output_type": "execute_result"
    }
   ],
   "source": [
    "a.sort(reverse=True)\n",
    "a"
   ]
  },
  {
   "cell_type": "code",
   "execution_count": 121,
   "id": "80fcc9bf-09da-488a-9fb0-0dee1895eca1",
   "metadata": {},
   "outputs": [],
   "source": [
    "a=[1,2,3,4,5,6,7,8,9]"
   ]
  },
  {
   "cell_type": "code",
   "execution_count": 122,
   "id": "6e5862c7-e937-488b-9dcc-2f992b674aff",
   "metadata": {},
   "outputs": [
    {
     "data": {
      "text/plain": [
       "[2, 3, 4]"
      ]
     },
     "execution_count": 122,
     "metadata": {},
     "output_type": "execute_result"
    }
   ],
   "source": [
    "a[1:4]"
   ]
  },
  {
   "cell_type": "code",
   "execution_count": 123,
   "id": "23088210-5e7b-4022-8aa8-976e9048b8e7",
   "metadata": {},
   "outputs": [
    {
     "data": {
      "text/plain": [
       "[2, 3, 4, 5, 6, 7, 8, 9]"
      ]
     },
     "execution_count": 123,
     "metadata": {},
     "output_type": "execute_result"
    }
   ],
   "source": [
    "a[1:]"
   ]
  },
  {
   "cell_type": "code",
   "execution_count": 124,
   "id": "9e56afdb-e4d0-45d6-98b6-afa21c1d0573",
   "metadata": {},
   "outputs": [
    {
     "data": {
      "text/plain": [
       "[1, 2, 3, 4, 5]"
      ]
     },
     "execution_count": 124,
     "metadata": {},
     "output_type": "execute_result"
    }
   ],
   "source": [
    "a[:5]"
   ]
  },
  {
   "cell_type": "code",
   "execution_count": 125,
   "id": "445aa1f2-8bfd-4425-9ed5-7ea6acab8695",
   "metadata": {},
   "outputs": [
    {
     "data": {
      "text/plain": [
       "[1, 2, 3, 4, 5, 6, 7]"
      ]
     },
     "execution_count": 125,
     "metadata": {},
     "output_type": "execute_result"
    }
   ],
   "source": [
    "a[:-2]"
   ]
  },
  {
   "cell_type": "code",
   "execution_count": 126,
   "id": "8e557fd1-6c18-400f-80d3-117655c5e8f4",
   "metadata": {},
   "outputs": [],
   "source": [
    "parametros={}"
   ]
  },
  {
   "cell_type": "code",
   "execution_count": 128,
   "id": "f05773eb-0dd1-495b-a206-5a19867823b2",
   "metadata": {},
   "outputs": [
    {
     "data": {
      "text/plain": [
       "dict"
      ]
     },
     "execution_count": 128,
     "metadata": {},
     "output_type": "execute_result"
    }
   ],
   "source": [
    "type(parametros)"
   ]
  },
  {
   "cell_type": "code",
   "execution_count": 129,
   "id": "d5723c91-f1f0-4d4a-a3c3-d96bbc652320",
   "metadata": {},
   "outputs": [],
   "source": [
    "parametros = {\n",
    "    'depth':[1000,1001,1002],\n",
    "    'rop':[20,33,25]\n",
    "}"
   ]
  },
  {
   "cell_type": "code",
   "execution_count": 130,
   "id": "27f88609-b741-47bc-b3e4-543072b77cf2",
   "metadata": {},
   "outputs": [
    {
     "data": {
      "text/plain": [
       "{'depth': [1000, 1001, 1002], 'rop': [20, 33, 25]}"
      ]
     },
     "execution_count": 130,
     "metadata": {},
     "output_type": "execute_result"
    }
   ],
   "source": [
    "parametros"
   ]
  },
  {
   "cell_type": "code",
   "execution_count": null,
   "id": "0fd89c21-35a0-42cf-a10e-f1ad644245ee",
   "metadata": {},
   "outputs": [],
   "source": []
  }
 ],
 "metadata": {
  "kernelspec": {
   "display_name": "Python 3 (ipykernel)",
   "language": "python",
   "name": "python3"
  },
  "language_info": {
   "codemirror_mode": {
    "name": "ipython",
    "version": 3
   },
   "file_extension": ".py",
   "mimetype": "text/x-python",
   "name": "python",
   "nbconvert_exporter": "python",
   "pygments_lexer": "ipython3",
   "version": "3.12.4"
  }
 },
 "nbformat": 4,
 "nbformat_minor": 5
}
