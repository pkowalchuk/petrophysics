import numpy as np
import pandas as pd
import matplotlib.pyplot as plt
from scipy import stats

# Step 1: Simulate or Load Data
# Simulating gamma ray data for existing wells in a field
np.random.seed(42)  # For reproducibility
existing_wells_gamma = np.random.normal(loc=90, scale=5, size=1000)  # Normal distribution, mean=90, std=5
new_well_gamma = np.random.normal(loc=90, scale=5, size=100)  # New well also normal distribution

# Step 2: Filter the Data
# Focus on gamma ray values between 80 and 100
existing_wells_filtered = existing_wells_gamma[(existing_wells_gamma >= 80) & (existing_wells_gamma <= 100)]
new_well_filtered = new_well_gamma[(new_well_gamma >= 80) & (new_well_gamma <= 100)]

# Step 3: Statistical Analysis
# Perform a t-test
t_stat, p_value = stats.ttest_ind(existing_wells_filtered, new_well_filtered)

# Print results
print(f"T-statistic: {t_stat:.4f}, P-value: {p_value:.4f}")
if p_value > 0.05:
    print("Fail to reject the null hypothesis: The new well is statistically the same as the existing wells.")
else:
    print("Reject the null hypothesis: The new well is statistically different from the existing wells.")

# Step 4: Visualize the Results
plt.figure(figsize=(12, 6))

# Plot histogram of existing wells
plt.hist(existing_wells_filtered, bins=30, alpha=0.5, label='Existing Wells', color='blue', edgecolor='black')

# Plot histogram of new well
plt.hist(new_well_filtered, bins=30, alpha=0.5, label='New Well', color='orange', edgecolor='black')

# Add titles and labels
plt.title('Gamma Ray Distribution: Existing Wells vs New Well')
plt.xlabel('Gamma Ray Value')
plt.ylabel('Frequency')
plt.legend()

# Show plot
plt.grid()
plt.show()



import numpy as np
import pandas as pd
import matplotlib.pyplot as plt
from scipy import stats

# Step 1: Simulate or Load Data
np.random.seed(42)  # For reproducibility
existing_wells_gamma = np.random.normal(loc=90, scale=5, size=1000)  # Normal distribution, mean=90, std=5
new_well_gamma = np.random.normal(loc=90, scale=5, size=100)  # New well also normal distribution

# Step 2: Filter the Data
existing_wells_filtered = existing_wells_gamma[(existing_wells_gamma >= 80) & (existing_wells_gamma <= 100)]
new_well_filtered = new_well_gamma[(new_well_gamma >= 80) & (new_well_gamma <= 100)]

# Step 3: Statistical Analysis
t_stat, p_value = stats.ttest_ind(existing_wells_filtered, new_well_filtered)

# Print results
print(f"T-statistic: {t_stat:.4f}, P-value: {p_value:.4f}")
if p_value > 0.05:
    print("Fail to reject the null hypothesis: The new well is statistically the same as the existing wells.")
else:
    print("Reject the null hypothesis: The new well is statistically different from the existing wells.")

# Step 4: Visualize the Results
plt.figure(figsize=(12, 6))

# Plot histogram of existing wells
plt.hist(existing_wells_filtered, bins=30, alpha=0.5, label='Existing Wells', color='blue', edgecolor='black')

# Plot histogram of new well
plt.hist(new_well_filtered, bins=30, alpha=0.5, label='New Well', color='orange', edgecolor='black')

# Step 5: Calculate and plot confidence intervals
def plot_confidence_interval(data, color, label):
    mean = np.mean(data)
    std_err = stats.sem(data)  # Standard error
    conf_interval = stats.t.interval(0.95, len(data)-1, loc=mean, scale=std_err)
    
    # Fill between the confidence intervals
    plt.fill_betweenx(y=[0, plt.ylim()[1]], x1=conf_interval[0], x2=conf_interval[1],
                     color=color, alpha=0.1, label=f'{label} 95% CI')

# Plot confidence intervals for both datasets
plot_confidence_interval(existing_wells_filtered, 'blue', 'Existing Wells')
plot_confidence_interval(new_well_filtered, 'orange', 'New Well')

# Add titles and labels
plt.title('Gamma Ray Distribution: Existing Wells vs New Well')
plt.xlabel('Gamma Ray Value')
plt.ylabel('Frequency')
plt.legend()

# Show plot
plt.grid()
plt.show()




import pandas as pd
import numpy as np
import matplotlib.pyplot as plt


def sw_archie(porosity, rt, rw, archieA=1, archieM=2, archieN=2):
    sw = ((archieA / (porosity ** archieM)) * (rw / rt)) ** (1 / archieN)
    return sw


def density_porosity(input_density, matrix_density, fluid_density):
    denpor = (matrix_density - input_density) / (matrix_density - fluid_density)
    return round(denpor, 4)


df = pd.read_csv("Data/ASCII/15_9-19.csv", header=0, skiprows=[1])
df.head()


nan_counts = df.isna().sum()
print(nan_counts)


df.describe()


df.replace(-999.00, np.nan, inplace=True)


df.describe()


nan_counts = df.isna().sum()
print(nan_counts)


df['GR'].plot(kind='hist', bins=230)
plt.xlim(0, 250)


df['PHI'] = density_porosity(df['RHOB'], 2.65, 1)
df['PHI']


df['PHI'].plot(kind='hist', bins=230)
plt.xlim(0, 1)


def check_required_columns(df, required_columns):
    missing_columns = [col for col in required_columns if col not in df.columns]
    if missing_columns:
        print(f"Missing columns: {missing_columns}")
        return False
    return True


required_columns = ['PHI', 'RT', 'RW']

# Check if DataFrame has all required columns
if check_required_columns(df, required_columns):
    print("All required columns are present.")
else:
    print("Some required columns are missing.")


df['SW'] = sw_archie(df['PHI'], df['RT'], df['RW'], 1, 2, 2)


df['SW'].describe()


df['SW_LIM'] = df['SW'].mask(df['SW']>1, 1)
df['SW_LIM'].describe()


df['SW_LIM'].plot(kind='hist', bins=230)
plt.ylim(0, 50)
plt.xlim(0, 1)


def shale_volume(gamma_ray, gamma_ray_max, gamma_ray_min):
    vshale = (gamma_ray - gamma_ray_min) / (gamma_ray_max - gamma_ray_min)
    return round(vshale, 4)


def sw_simandoux(phie, rt, rw, archieA, archieM, archieN, vshale, rshale):
    A = (1 - vshale) * archieA * rw / (phie ** archieM)
    B = A * vshale / (2 * rshale)
    C = A / rt
    
    sw = ((B **2 + C)**0.5 - B) **(2 / archieN)
    return sw


df['VSHALE'] = shale_volume(df['GR'], df['GR'].quantile(q=0.99),
                             df['GR'].quantile(q=0.01))

df['PHIECALC'] = df['PHI'] - (df['VSHALE'] * 0.3)

df['SW_SIM'] = sw_simandoux(df['PHIECALC'], df['RT'], df['RW'], 1, 2, 2, df['VSHALE'],2)

df['SW__SIM_LIM'] = df['SW_SIM'].mask(df['SW_SIM']>1, 1)


fig, ax = plt.subplots(figsize=(15,10))

#Set up the plot axes
ax1 = plt.subplot2grid((1,7), (0,0), rowspan=1, colspan = 1)
ax2 = plt.subplot2grid((1,7), (0,1), rowspan=1, colspan = 1)
ax3 = plt.subplot2grid((1,7), (0,2), rowspan=1, colspan = 1)
ax4 = plt.subplot2grid((1,7), (0,3), rowspan=1, colspan = 1)
ax5 = ax3.twiny() #Twins the y-axis for the density track with the neutron track
ax6 = plt.subplot2grid((1,7), (0,4), rowspan=1, colspan = 1)
ax7 = ax6.twiny()
ax8 = plt.subplot2grid((1,7), (0,5), rowspan=1, colspan = 1)
ax9 = plt.subplot2grid((1,7), (0,6), rowspan=1, colspan = 1)

# As our curve scales will be detached from the top of the track,
# this code adds the top border back in without dealing with splines
ax10 = ax1.twiny()
ax10.xaxis.set_visible(False)
ax11 = ax2.twiny()
ax11.xaxis.set_visible(False)
ax12 = ax3.twiny()
ax12.xaxis.set_visible(False)

# Gamma Ray track
ax1.plot("GR", "DEPTH", data = df, color = "green")
ax1.set_xlabel("Gamma")
ax1.xaxis.label.set_color("green")
ax1.set_xlim(0, 200)
ax1.set_ylabel("Depth (m)")
ax1.tick_params(axis='x', colors="green")
ax1.spines["top"].set_edgecolor("green")
ax1.title.set_color('green')
ax1.set_xticks([0, 50, 100, 150, 200])

# Resistivity track
ax2.plot("RT", "DEPTH", data = df, color = "red")
ax2.set_xlabel("Resistivity")
ax2.set_xlim(0.2, 2000)
ax2.xaxis.label.set_color("red")
ax2.tick_params(axis='x', colors="red")
ax2.spines["top"].set_edgecolor("red")
ax2.set_xticks([0.1, 1, 10, 100, 1000])
ax2.semilogx()

# Density track
ax3.plot("RHOB", "DEPTH", data = df, color = "red")
ax3.set_xlabel("Density")
ax3.set_xlim(1.95, 2.95)
ax3.xaxis.label.set_color("red")
ax3.tick_params(axis='x', colors="red")
ax3.spines["top"].set_edgecolor("red")
ax3.set_xticks([1.95, 2.45, 2.95])

# Sonic track
ax4.plot("DT", "DEPTH", data = df, color = "purple")
ax4.set_xlabel("Sonic")
ax4.set_xlim(140, 40)
ax4.xaxis.label.set_color("purple")
ax4.tick_params(axis='x', colors="purple")
ax4.spines["top"].set_edgecolor("purple")

# Neutron track placed ontop of density track
ax5.plot("NPHI", "DEPTH", data = df, color = "blue")
ax5.set_xlabel('Neutron')
ax5.xaxis.label.set_color("blue")
ax5.set_xlim(0.45, -0.15)
ax5.set_ylim(4150, 3500)
ax5.tick_params(axis='x', colors="blue")
ax5.spines["top"].set_position(("axes", 1.08))
ax5.spines["top"].set_visible(True)
ax5.spines["top"].set_edgecolor("blue")
ax5.set_xticks([0.45,  0.15, -0.15])

# Porosity track
ax6.plot("PHI", "DEPTH", data = df, color = "black")
ax6.set_xlabel("Total PHI")
ax6.set_xlim(0.5, 0)
ax6.xaxis.label.set_color("black")
ax6.tick_params(axis='x', colors="black")
ax6.spines["top"].set_edgecolor("black")
ax6.set_xticks([0, 0.25, 0.5])

# Porosity track
ax7.plot("PHIECALC", "DEPTH", data = df, color = "blue")
ax7.set_xlabel("Effective PHI")
ax7.set_xlim(0.5, 0)
ax7.xaxis.label.set_color("blue")
ax7.tick_params(axis='x', colors="blue")
ax7.spines["top"].set_position(("axes", 1.08))
ax7.spines["top"].set_visible(True)
ax7.spines["top"].set_edgecolor("blue")
ax7.set_xticks([0, 0.25, 0.5])

# Sw track
ax8.plot("SW_LIM", "DEPTH", data = df, color = "black")
ax8.set_xlabel("SW - Archie")
ax8.set_xlim(0, 1)
ax8.xaxis.label.set_color("black")
ax8.tick_params(axis='x', colors="black")
ax8.spines["top"].set_edgecolor("black")
ax8.set_xticks([0, 0.5, 1])

# Sw track
ax9.plot("SW_SIM", "DEPTH", data = df, color = "blue")
ax9.set_xlabel("SW - Simandoux")
ax9.set_xlim(0, 1)
ax9.xaxis.label.set_color("blue")
ax9.tick_params(axis='x', colors="blue")
ax9.spines["top"].set_edgecolor("blue")
ax9.set_xticks([0, 0.5, 1])

# Common functions for setting up the plot can be extracted into
# a for loop. This saves repeating code.
for ax in [ax1, ax2, ax3, ax4, ax6, ax8, ax9]:
    ax.set_ylim(4150, 3500)
    ax.grid(which='major', color='lightgrey', linestyle='-')
    ax.xaxis.set_ticks_position("top")
    ax.xaxis.set_label_position("top")
    ax.spines["top"].set_position(("axes", 1.02))
    
    
plt.tight_layout()


df = pd.read_csv("Data/ASCII/L0509WellData.csv", header=0)
df.describe()


df.replace(-999.25, np.nan, inplace=True)
df.head()


mean = df['GR'].mean()
p5 = df['GR'].quantile(0.05)
p95 = df['GR'].quantile(0.95)

plt.figure(figsize=(6,4), dpi=300)
df['GR'].plot(kind='hist', bins=30, color='red', alpha=0.5, edgecolor='black')
plt.xlabel('Gamma Ray', fontsize=14)
plt.ylabel('Frequency', fontsize=14)
plt.xlim(0,200)

plt.axvline(mean, color='blue', label='mean')
plt.axvline(p5, color='green', label='5th Percentile')
plt.axvline(p95, color='purple', label='95th Percentile')

plt.legend()
plt.show()


cols_to_plot = list(df)
cols_to_plot.remove("DEPTH")

rows = 3
cols = 2

fig=plt.figure(figsize=(10,10))

for i, feature in enumerate(cols_to_plot):
    ax=fig.add_subplot(rows,cols,i+1)
    df[feature].hist(bins=20,ax=ax,facecolor='green', alpha=0.6)
    ax.set_title(feature+" Distribution")
    ax.set_axisbelow(True)
    ax.grid(color='whitesmoke')

plt.tight_layout()  
plt.show()


df.plot(kind="scatter", x="NPHI", y="RHOB", c="GR", 
          colormap="YlOrRd_r", ylim=(3,2))


data = pd.read_csv('Data/ASCII/VolveWells.csv')


data.head()


data.describe()


data['WELL'].unique()


wells = data.groupby('WELL')
wells.head()


wells.min()


wells.max()


wells.describe()


fig, ax = plt.subplots(figsize=(8,6))
for label, df in wells:
    df.GR.plot(kind ='kde', ax=ax, label=label)
    plt.xlim(0, 200)
plt.grid(True)
plt.legend()
plt.savefig('before_normalisation.png', dpi=300)


gr_percentile_05 = data.groupby('WELL')['GR'].quantile(0.05)
gr_percentile_05


type(gr_percentile_05)


data['05_PERC'] = data['WELL'].map(gr_percentile_05)
data.describe()


gr_percentile_95 = data.groupby('WELL')['GR'].quantile(0.95)

gr_percentile_95


data['95_PERC'] = data['WELL'].map(gr_percentile_95)

data.describe()


def normalise(curve, ref_low, ref_high, well_low, well_high):
    return ref_low + ((ref_high - ref_low) * ((curve - well_low) / (well_high - well_low)))

key_well_low = 25
key_well_high = 110

data['GR_NORM'] = data.apply(lambda x: normalise(x['GR'], key_well_low, key_well_high, x['05_PERC'], x['95_PERC']), axis=1)


fig, ax = plt.subplots(figsize=(8,6))
for label, df in wells:
    df.GR_NORM.plot(kind ='kde', ax=ax, label=label)
    plt.xlim(0, 200)
plt.grid(True)
plt.legend()
plt.savefig('after_normalisation.png', dpi=300)



