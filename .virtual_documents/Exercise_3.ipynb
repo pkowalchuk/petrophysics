import pandas as pd
import numpy as np


data = {
    'Depth (m)': np.random.uniform(1000, 5000, 10),
    'Total Vertical Depth (m)': np.random.uniform(1500, 8000, 10),
    'ROP (m/h)': np.random.uniform(5, 25, 10),
    'Gamma': np.random.uniform(10, 100),
    'Resistivity': np.random.uniform(1, 2000),
    'Density': np.random.uniform(1, 2),
    'Porosity': np.random.uniform(0,0.6)
}

print(data)


df = pd.DataFrame(data)

print("Pandas dataframe:")
print(df)


high_rop_rows = df[df['ROP (m/h)'] > 15]

print("Rows where ROP exceeds 15:")
print(high_rop_rows)


import os

print("Working directory:", os.getcwd())


file_path = 'Data//ASCII//Well-CSV-1_GSS_DDRL_201229_5618.0m_TD.csv'
df = pd.read_csv(file_path)

print("CSV file dataframe:")
print(df)


import lasio


las_file_path = 'Data/LAS/Ironbark-1_L601_PWD_FNL_5618_210107.las'

wellDepth = lasio.read(las_file_path)

print("\nData:")
print(wellDepth.df())


las_file_path = 'Data/LAS/Ironbark-1_L601_PWD_FNL_TIME_210107.las'

wellTime = lasio.read(las_file_path)

print("\nData:")
print(wellTime.df())


from bs4 import BeautifulSoup


WITSML_file = r"Data/WITSML/1-1.xml"

with open(WITSML_file) as f:
    data = f.read()
    
data_xml = BeautifulSoup(data, 'xml')
# Print the tags in the file
temp = set([str(tag.name) for tag in data_xml.find_all()])
print ("\n".join(temp))


columns = ['md', 'tvd', 'incl', 'azi', 'dispNs', 'dispEw']
df = pd.DataFrame()

for col in columns:
    df[col] = [float(x.text) for x in data_xml.find_all(col)]

print(df)


import matplotlib
matplotlib.use('TkAgg')

import matplotlib.pyplot as plt
from mpl_toolkits.mplot3d import Axes3D

## Plot the trajectory
fig = plt.figure()
ax = fig.add_subplot(projection='3d')
 
# define the axis parameters
ax.plot(df['dispNs'], df['dispEw'], df['tvd']*-1, '-r', linewidth = 2)
 
# format the plot
ax.set_xlabel('dispNs', size=20, labelpad=30)
ax.set_ylabel('dispEw', size=20, labelpad=30)
ax.set_zlabel('tvd', size=20, labelpad=30)
ax.tick_params(labelsize=15)
 
#set plot aspect ratio
ax.get_proj = lambda: np.dot(Axes3D.get_proj(ax), np.diag([0.5, 0.5,1.5, 1]))
 
fig.show()


las_file_path = 'Data/LAS/Barossa-6_24hrs Time Ascii_010517.LAS'

wellTime1 = lasio.read(las_file_path)

print("\nData:")

df1=wellTime1.df()
df1.head()

df1.tail()


las_file_path = 'Data/LAS/Barossa-6_24hrs Time Ascii_020517.LAS'

wellTime1 = lasio.read(las_file_path)

print("\nData:")

df2=wellTime1.df()
df2.head()


result_vertical = pd.concat([df1, df2], ignore_index=False)

# Print the result
print("Result after vertical concatenation:")
result_vertical.head()

result_vertical.tail()


print("Is the head of result_vertical equal to the tail of df1? " + str(result_vertical.head().equals(df1.head())))


print("Is the tail of result_vertical equal to the tail of df2? " + str(result_vertical.tail().equals(df2.tail())))


print("Number of rows in df1: "+str(len(df1)) + ", Number of rows in df2: ", str(len(df2)))


print("Number of rows in result_vertical : "+str(len(result_vertical)))


df_reset = result_vertical.reset_index()
df_reset.tail()

# Plot the values of the 'Values' column horizontally
df_reset['ETIM'][-200:].plot(kind='line', marker='o', linestyle='-', color='skyblue')

# Customize the plot
plt.title('ETIM plot')
plt.xlabel('Index')
plt.ylabel('ETIM')
plt.show()


data = {
    'Depth': [100, 200, 300, 400, 500, 600, 700, 800, 900, 1000],
    'ROP': [45, 55, 60, 40, 70, 30, 80, 20, 90, 25]
}

df = pd.DataFrame(data)

# Create groups based on the condition ROP > 50
groups = df.groupby(df['ROP'] > 50)

# Print the groups
for name, group in groups:
    print(f"Group: {name}")
    print(group)
    print("\n")


from bs4 import BeautifulSoup

WITSML_file = r"Data/WITSML/1-2.xml"

with open(WITSML_file) as f:
    data = f.read()
    
data_xml = BeautifulSoup(data, 'xml')
# Print the tags in the file
temp = set([str(tag.name) for tag in data_xml.find_all()])
print ("\n".join(temp))


tags_at_level = data_xml.find_all(lambda tag: len(tag.find_parents()) == 4)

df=pd.DataFrame()
ilitho=-1
row={}
for index,tag in enumerate(tags_at_level):
    if tag.name not in df.columns:
        df[tag.name]=0
    if tag.name=="typeLithology":
        ilitho+=1
        #print("New Horizon - "+str(ilitho))
        #print(row)
        if ilitho:
            df=pd.concat([df,pd.DataFrame([row])],ignore_index=True)
            row={}
    try:
        row[tag.name]=float(tag.text)
    except:
        row[tag.name]=tag.text
    #print(f"{ilitho} - {tag.name}: {tag.text}")
    
df.head(10)


df['ropAv']=df['ropAv']*3600


# Create groups based on the condition ROP > 10
groups = df.groupby(df['ropAv'] > 10)

print("Grupo True")
groups.get_group(True).head()


print("Grupo False")
groups.get_group(False).head()



